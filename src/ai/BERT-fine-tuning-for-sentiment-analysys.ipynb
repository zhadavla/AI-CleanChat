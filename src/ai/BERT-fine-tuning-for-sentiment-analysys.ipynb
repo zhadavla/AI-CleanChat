{
 "cells": [
  {
   "cell_type": "markdown",
   "id": "da2eee40",
   "metadata": {},
   "source": [
    "### **Install the Libraries**\n",
    "\n",
    "First off, let's install the necessary libraries. Just to start we'll be using Hugging Face's `transformers` and `datasets` libraries for the BERT model and dataset handling."
   ]
  },
  {
   "cell_type": "code",
   "execution_count": 1,
   "id": "527aac13",
   "metadata": {},
   "outputs": [
    {
     "name": "stdout",
     "output_type": "stream",
     "text": [
      "Requirement already satisfied: transformers in /opt/conda/lib/python3.10/site-packages (4.44.2)\n",
      "Requirement already satisfied: datasets in /opt/conda/lib/python3.10/site-packages (3.0.0)\n",
      "Requirement already satisfied: evaluate in /opt/conda/lib/python3.10/site-packages (0.4.3)\n",
      "Requirement already satisfied: filelock in /opt/conda/lib/python3.10/site-packages (from transformers) (3.15.4)\n",
      "Requirement already satisfied: numpy>=1.17 in /opt/conda/lib/python3.10/site-packages (from transformers) (1.23.5)\n",
      "Requirement already satisfied: tqdm>=4.27 in /opt/conda/lib/python3.10/site-packages (from transformers) (4.66.5)\n",
      "Requirement already satisfied: huggingface-hub<1.0,>=0.23.2 in /opt/conda/lib/python3.10/site-packages (from transformers) (0.24.7)\n",
      "Requirement already satisfied: requests in /opt/conda/lib/python3.10/site-packages (from transformers) (2.32.3)\n",
      "Requirement already satisfied: regex!=2019.12.17 in /opt/conda/lib/python3.10/site-packages (from transformers) (2024.9.11)\n",
      "Requirement already satisfied: safetensors>=0.4.1 in /opt/conda/lib/python3.10/site-packages (from transformers) (0.4.5)\n",
      "Requirement already satisfied: packaging>=20.0 in /opt/conda/lib/python3.10/site-packages (from transformers) (24.1)\n",
      "Requirement already satisfied: pyyaml>=5.1 in /opt/conda/lib/python3.10/site-packages (from transformers) (6.0.1)\n",
      "Requirement already satisfied: tokenizers<0.20,>=0.19 in /opt/conda/lib/python3.10/site-packages (from transformers) (0.19.1)\n",
      "Requirement already satisfied: pandas in /opt/conda/lib/python3.10/site-packages (from datasets) (2.0.3)\n",
      "Requirement already satisfied: multiprocess in /opt/conda/lib/python3.10/site-packages (from datasets) (0.70.16)\n",
      "Requirement already satisfied: dill<0.3.9,>=0.3.0 in /opt/conda/lib/python3.10/site-packages (from datasets) (0.3.8)\n",
      "Requirement already satisfied: fsspec[http]<=2024.6.1,>=2023.1.0 in /opt/conda/lib/python3.10/site-packages (from datasets) (2024.6.1)\n",
      "Requirement already satisfied: aiohttp in /opt/conda/lib/python3.10/site-packages (from datasets) (3.9.5)\n",
      "Requirement already satisfied: pyarrow>=15.0.0 in /opt/conda/lib/python3.10/site-packages (from datasets) (17.0.0)\n",
      "Requirement already satisfied: xxhash in /opt/conda/lib/python3.10/site-packages (from datasets) (3.4.1)\n",
      "Requirement already satisfied: async-timeout<5.0,>=4.0 in /opt/conda/lib/python3.10/site-packages (from aiohttp->datasets) (4.0.3)\n",
      "Requirement already satisfied: yarl<2.0,>=1.0 in /opt/conda/lib/python3.10/site-packages (from aiohttp->datasets) (1.9.4)\n",
      "Requirement already satisfied: multidict<7.0,>=4.5 in /opt/conda/lib/python3.10/site-packages (from aiohttp->datasets) (6.0.5)\n",
      "Requirement already satisfied: aiosignal>=1.1.2 in /opt/conda/lib/python3.10/site-packages (from aiohttp->datasets) (1.3.1)\n",
      "Requirement already satisfied: frozenlist>=1.1.1 in /opt/conda/lib/python3.10/site-packages (from aiohttp->datasets) (1.4.1)\n",
      "Requirement already satisfied: attrs>=17.3.0 in /opt/conda/lib/python3.10/site-packages (from aiohttp->datasets) (23.2.0)\n",
      "Requirement already satisfied: typing-extensions>=3.7.4.3 in /opt/conda/lib/python3.10/site-packages (from huggingface-hub<1.0,>=0.23.2->transformers) (4.12.2)\n",
      "Requirement already satisfied: charset-normalizer<4,>=2 in /opt/conda/lib/python3.10/site-packages (from requests->transformers) (2.0.4)\n",
      "Requirement already satisfied: urllib3<3,>=1.21.1 in /opt/conda/lib/python3.10/site-packages (from requests->transformers) (1.26.19)\n",
      "Requirement already satisfied: idna<4,>=2.5 in /opt/conda/lib/python3.10/site-packages (from requests->transformers) (3.3)\n",
      "Requirement already satisfied: certifi>=2017.4.17 in /opt/conda/lib/python3.10/site-packages (from requests->transformers) (2024.7.4)\n",
      "Requirement already satisfied: pytz>=2020.1 in /opt/conda/lib/python3.10/site-packages (from pandas->datasets) (2024.1)\n",
      "Requirement already satisfied: python-dateutil>=2.8.2 in /opt/conda/lib/python3.10/site-packages (from pandas->datasets) (2.9.0.post0)\n",
      "Requirement already satisfied: tzdata>=2022.1 in /opt/conda/lib/python3.10/site-packages (from pandas->datasets) (2024.1)\n",
      "Requirement already satisfied: six>=1.5 in /opt/conda/lib/python3.10/site-packages (from python-dateutil>=2.8.2->pandas->datasets) (1.16.0)\n",
      "Note: you may need to restart the kernel to use updated packages.\n"
     ]
    }
   ],
   "source": [
    "%pip install transformers datasets evaluate -U"
   ]
  },
  {
   "cell_type": "markdown",
   "id": "e9204017",
   "metadata": {},
   "source": [
    "### **Import the Libraries**\n",
    "\n",
    "Now, let's import all the stuff we need."
   ]
  },
  {
   "cell_type": "code",
   "execution_count": 2,
   "id": "f4de4b9f",
   "metadata": {},
   "outputs": [],
   "source": [
    "import torch\n",
    "from transformers import BertTokenizer, BertForSequenceClassification, AdamW, get_scheduler\n",
    "from datasets import load_dataset\n",
    "from torch.utils.data import DataLoader\n",
    "import evaluate\n",
    "from tqdm.auto import tqdm"
   ]
  },
  {
   "cell_type": "markdown",
   "id": "f31641b5",
   "metadata": {},
   "source": [
    "### **Set Up the Device**\n",
    "\n",
    "Let's check if we have a GPU available (faster training!). If not, we'll stick with the CPU."
   ]
  },
  {
   "cell_type": "code",
   "execution_count": 3,
   "id": "98e9bd78",
   "metadata": {},
   "outputs": [
    {
     "name": "stdout",
     "output_type": "stream",
     "text": [
      "Using device: cuda\n"
     ]
    }
   ],
   "source": [
    "# Use GPU if available, else CPU\n",
    "device = torch.device('cuda' if torch.cuda.is_available() else 'cpu')\n",
    "print(f'Using device: {device}')"
   ]
  },
  {
   "cell_type": "code",
   "execution_count": 4,
   "id": "327f02ec",
   "metadata": {},
   "outputs": [],
   "source": [
    "# Free up unused cached memory\n",
    "if device == 'cuda':\n",
    "    torch.cuda.empty_cache()"
   ]
  },
  {
   "cell_type": "markdown",
   "id": "1c30ecd2",
   "metadata": {},
   "source": [
    "### **Load the Dataset**\n",
    "\n",
    "We'll be using the `hate_speech_offensive` dataset, which is perfect for our classification task."
   ]
  },
  {
   "cell_type": "code",
   "execution_count": 5,
   "id": "0c4801d7",
   "metadata": {},
   "outputs": [],
   "source": [
    "dataset = load_dataset('hate_speech_offensive')"
   ]
  },
  {
   "cell_type": "code",
   "execution_count": null,
   "id": "f8757873",
   "metadata": {},
   "outputs": [],
   "source": [
    "dataset"
   ]
  },
  {
   "cell_type": "markdown",
   "id": "060039b8",
   "metadata": {},
   "source": [
    "### **Preprocess the Data**\n",
    "\n",
    "Let's prepare the data. We'll extract the tweets and their corresponding classes."
   ]
  },
  {
   "cell_type": "code",
   "execution_count": 6,
   "id": "6a904c24",
   "metadata": {},
   "outputs": [],
   "source": [
    "# Preprocess the dataset to get texts and labels\n",
    "def preprocess_function(examples):\n",
    "    texts = examples['tweet']\n",
    "    labels = examples['class']\n",
    "    return {'text': texts, 'labels': labels}\n",
    "\n",
    "dataset = dataset.map(preprocess_function, batched=True)"
   ]
  },
  {
   "cell_type": "markdown",
   "id": "c491c965",
   "metadata": {},
   "source": [
    "### **Split the Dataset**\n",
    "\n",
    "We'll split the dataset into training and validation sets. Keeping 10% for validation sounds about right."
   ]
  },
  {
   "cell_type": "code",
   "execution_count": 7,
   "id": "aedf7192",
   "metadata": {},
   "outputs": [],
   "source": [
    "# Split the dataset: 90% train, 10% validation\n",
    "dataset = dataset['train'].train_test_split(test_size=0.1)\n",
    "train_dataset = dataset['train']\n",
    "validation_dataset = dataset['test']"
   ]
  },
  {
   "cell_type": "markdown",
   "id": "497e3aa3",
   "metadata": {},
   "source": [
    "### **Initialize the Tokenizer**\n",
    "\n",
    "We're going to use BERT's tokenizer since we're working with a BERT model."
   ]
  },
  {
   "cell_type": "code",
   "execution_count": 8,
   "id": "0609daed",
   "metadata": {},
   "outputs": [
    {
     "name": "stderr",
     "output_type": "stream",
     "text": [
      "/opt/conda/lib/python3.10/site-packages/transformers/tokenization_utils_base.py:1601: FutureWarning: `clean_up_tokenization_spaces` was not set. It will be set to `True` by default. This behavior will be depracted in transformers v4.45, and will be then set to `False` by default. For more details check this issue: https://github.com/huggingface/transformers/issues/31884\n",
      "  warnings.warn(\n"
     ]
    }
   ],
   "source": [
    "tokenizer = BertTokenizer.from_pretrained('bert-base-uncased')"
   ]
  },
  {
   "cell_type": "markdown",
   "id": "d37b0e27",
   "metadata": {},
   "source": [
    "### **Tokenize the Datasets**\n",
    "\n",
    "Let's tokenize our text data. We'll set a max length to keep things consistent (that's should be OK for our chat app, chat messages often really short)."
   ]
  },
  {
   "cell_type": "code",
   "execution_count": 9,
   "id": "2f6841f6",
   "metadata": {},
   "outputs": [
    {
     "data": {
      "application/vnd.jupyter.widget-view+json": {
       "model_id": "8e9d38e56b5a4074804ff7782b850795",
       "version_major": 2,
       "version_minor": 0
      },
      "text/plain": [
       "Map:   0%|          | 0/22304 [00:00<?, ? examples/s]"
      ]
     },
     "metadata": {},
     "output_type": "display_data"
    },
    {
     "data": {
      "application/vnd.jupyter.widget-view+json": {
       "model_id": "ad09382379d84c90a250e01bea5f8cb5",
       "version_major": 2,
       "version_minor": 0
      },
      "text/plain": [
       "Map:   0%|          | 0/2479 [00:00<?, ? examples/s]"
      ]
     },
     "metadata": {},
     "output_type": "display_data"
    }
   ],
   "source": [
    "# Tokenize the text data\n",
    "def tokenize_function(examples):\n",
    "    return tokenizer(examples['text'], truncation=True, padding='max_length', max_length=256)\n",
    "\n",
    "train_dataset = train_dataset.map(tokenize_function, batched=True)\n",
    "validation_dataset = validation_dataset.map(tokenize_function, batched=True)"
   ]
  },
  {
   "cell_type": "markdown",
   "id": "8b1dc1b0",
   "metadata": {},
   "source": [
    "### **Prepare the Data for PyTorch**\n",
    "\n",
    "We'll format our datasets so that PyTorch can work with them seamlessly."
   ]
  },
  {
   "cell_type": "code",
   "execution_count": 10,
   "id": "5b21897b",
   "metadata": {},
   "outputs": [],
   "source": [
    "# Format datasets for PyTorch\n",
    "train_dataset.set_format('torch', columns=['input_ids', 'attention_mask', 'labels'])\n",
    "validation_dataset.set_format('torch', columns=['input_ids', 'attention_mask', 'labels'])"
   ]
  },
  {
   "cell_type": "markdown",
   "id": "f2e07d4a",
   "metadata": {},
   "source": [
    "### **Load the Pre-trained BERT Model**\n",
    "\n",
    "We're using the `bert-base-uncased` model. It's a good balance between performance and size—not too heavy to train."
   ]
  },
  {
   "cell_type": "code",
   "execution_count": 11,
   "id": "625451d4",
   "metadata": {},
   "outputs": [
    {
     "name": "stderr",
     "output_type": "stream",
     "text": [
      "Some weights of BertForSequenceClassification were not initialized from the model checkpoint at bert-base-uncased and are newly initialized: ['classifier.bias', 'classifier.weight']\n",
      "You should probably TRAIN this model on a down-stream task to be able to use it for predictions and inference.\n"
     ]
    },
    {
     "data": {
      "text/plain": [
       "BertForSequenceClassification(\n",
       "  (bert): BertModel(\n",
       "    (embeddings): BertEmbeddings(\n",
       "      (word_embeddings): Embedding(30522, 768, padding_idx=0)\n",
       "      (position_embeddings): Embedding(512, 768)\n",
       "      (token_type_embeddings): Embedding(2, 768)\n",
       "      (LayerNorm): LayerNorm((768,), eps=1e-12, elementwise_affine=True)\n",
       "      (dropout): Dropout(p=0.1, inplace=False)\n",
       "    )\n",
       "    (encoder): BertEncoder(\n",
       "      (layer): ModuleList(\n",
       "        (0-11): 12 x BertLayer(\n",
       "          (attention): BertAttention(\n",
       "            (self): BertSdpaSelfAttention(\n",
       "              (query): Linear(in_features=768, out_features=768, bias=True)\n",
       "              (key): Linear(in_features=768, out_features=768, bias=True)\n",
       "              (value): Linear(in_features=768, out_features=768, bias=True)\n",
       "              (dropout): Dropout(p=0.1, inplace=False)\n",
       "            )\n",
       "            (output): BertSelfOutput(\n",
       "              (dense): Linear(in_features=768, out_features=768, bias=True)\n",
       "              (LayerNorm): LayerNorm((768,), eps=1e-12, elementwise_affine=True)\n",
       "              (dropout): Dropout(p=0.1, inplace=False)\n",
       "            )\n",
       "          )\n",
       "          (intermediate): BertIntermediate(\n",
       "            (dense): Linear(in_features=768, out_features=3072, bias=True)\n",
       "            (intermediate_act_fn): GELUActivation()\n",
       "          )\n",
       "          (output): BertOutput(\n",
       "            (dense): Linear(in_features=3072, out_features=768, bias=True)\n",
       "            (LayerNorm): LayerNorm((768,), eps=1e-12, elementwise_affine=True)\n",
       "            (dropout): Dropout(p=0.1, inplace=False)\n",
       "          )\n",
       "        )\n",
       "      )\n",
       "    )\n",
       "    (pooler): BertPooler(\n",
       "      (dense): Linear(in_features=768, out_features=768, bias=True)\n",
       "      (activation): Tanh()\n",
       "    )\n",
       "  )\n",
       "  (dropout): Dropout(p=0.1, inplace=False)\n",
       "  (classifier): Linear(in_features=768, out_features=3, bias=True)\n",
       ")"
      ]
     },
     "execution_count": 11,
     "metadata": {},
     "output_type": "execute_result"
    }
   ],
   "source": [
    "# Load the pre-trained BERT model for sequence classification\n",
    "num_labels = 3  # We have three classes to predict\n",
    "model = BertForSequenceClassification.from_pretrained('bert-base-uncased', num_labels=num_labels)\n",
    "model.to(device)"
   ]
  },
  {
   "cell_type": "markdown",
   "id": "5691cd65",
   "metadata": {},
   "source": [
    "### **Prepare DataLoaders**\n",
    "\n",
    "DataLoaders help us handle batching and shuffling. We'll set a batch size that balances speed and memory usage."
   ]
  },
  {
   "cell_type": "code",
   "execution_count": 12,
   "id": "19625772",
   "metadata": {},
   "outputs": [],
   "source": [
    "# Create DataLoaders for training and validation\n",
    "train_dataloader = DataLoader(train_dataset, batch_size=48, shuffle=True)\n",
    "eval_dataloader = DataLoader(validation_dataset, batch_size=16)"
   ]
  },
  {
   "cell_type": "markdown",
   "id": "0fad8766",
   "metadata": {},
   "source": [
    "### **Set Up the Optimizer and Scheduler**\n",
    "\n",
    "We'll use the AdamW optimizer, which is standard for training transformers. The learning rate is set to a small value to ensure stable training."
   ]
  },
  {
   "cell_type": "code",
   "execution_count": 13,
   "id": "382b0ba4",
   "metadata": {},
   "outputs": [
    {
     "name": "stderr",
     "output_type": "stream",
     "text": [
      "/opt/conda/lib/python3.10/site-packages/transformers/optimization.py:591: FutureWarning: This implementation of AdamW is deprecated and will be removed in a future version. Use the PyTorch implementation torch.optim.AdamW instead, or set `no_deprecation_warning=True` to disable this warning\n",
      "  warnings.warn(\n"
     ]
    }
   ],
   "source": [
    "# Set up the optimizer and learning rate scheduler\n",
    "optimizer = AdamW(model.parameters(), lr=5e-5)\n",
    "num_epochs = 3\n",
    "num_training_steps = num_epochs * len(train_dataloader)\n",
    "lr_scheduler = get_scheduler(\n",
    "    name='linear',\n",
    "    optimizer=optimizer,\n",
    "    num_warmup_steps=0,\n",
    "    num_training_steps=num_training_steps\n",
    ")"
   ]
  },
  {
   "cell_type": "markdown",
   "id": "a88c51c1",
   "metadata": {},
   "source": [
    "### **Training Loop**\n",
    "\n",
    "Time to train the model! We'll loop over the epochs and update the model's weights based on the loss."
   ]
  },
  {
   "cell_type": "code",
   "execution_count": 19,
   "id": "2eaa3350",
   "metadata": {},
   "outputs": [],
   "source": [
    "import matplotlib.pyplot as plt # just to visualize how the loss decreases over time during training.\n",
    "\n",
    "# Initialize lists to store loss and accuracy\n",
    "avg_train_losses = []\n",
    "avg_val_losses = []\n",
    "validation_accuracies = []"
   ]
  },
  {
   "cell_type": "code",
   "execution_count": 20,
   "id": "0814b78c",
   "metadata": {},
   "outputs": [],
   "source": [
    "# Load accuracy metric\n",
    "from evaluate import load\n",
    "metric = load('accuracy')"
   ]
  },
  {
   "cell_type": "code",
   "execution_count": null,
   "id": "6144e819",
   "metadata": {
    "ExecuteTime": {
     "end_time": "2024-09-14T15:35:19.880412103Z",
     "start_time": "2024-09-14T15:35:19.861506666Z"
    }
   },
   "outputs": [],
   "source": [
    "# Training and validation loop\n",
    "model.train()\n",
    "for epoch in range(num_epochs):\n",
    "    train_losses = []\n",
    "    progress_bar = tqdm(train_dataloader, desc=f\"Epoch {epoch+1}/{num_epochs}\")\n",
    "    \n",
    "    for batch in progress_bar:\n",
    "        batch = {k: v.to(device) for k, v in batch.items()}  # Move batch to device\n",
    "        outputs = model(**batch)\n",
    "        loss = outputs.loss\n",
    "        loss.backward()\n",
    "        \n",
    "        optimizer.step()\n",
    "        lr_scheduler.step()\n",
    "        optimizer.zero_grad()\n",
    "        \n",
    "        train_losses.append(loss.item())\n",
    "        progress_bar.set_postfix({'loss': loss.item()})\n",
    "    \n",
    "    # Average training loss\n",
    "    avg_train_loss = sum(train_losses) / len(train_losses)\n",
    "    avg_train_losses.append(avg_train_loss)\n",
    "    print(f'Average training loss for epoch {epoch+1}: {avg_train_loss}')\n",
    "    \n",
    "    # Validation loop\n",
    "    model.eval()\n",
    "    val_losses = []\n",
    "    metric.reset()\n",
    "    with torch.no_grad():\n",
    "        for batch in eval_dataloader:\n",
    "            batch = {k: v.to(device) for k, v in batch.items()}\n",
    "            outputs = model(**batch)\n",
    "            \n",
    "            # Validation loss\n",
    "            loss = outputs.loss\n",
    "            val_losses.append(loss.item())\n",
    "            \n",
    "            # Validation accuracy\n",
    "            logits = outputs.logits\n",
    "            predictions = torch.argmax(logits, dim=-1)\n",
    "            metric.add_batch(predictions=predictions, references=batch['labels'])\n",
    "    \n",
    "    # Average validation loss\n",
    "    avg_val_loss = sum(val_losses) / len(val_losses)\n",
    "    avg_val_losses.append(avg_val_loss)\n",
    "    print(f'Average validation loss for epoch {epoch+1}: {avg_val_loss}')\n",
    "    \n",
    "    # Validation accuracy\n",
    "    eval_results = metric.compute()\n",
    "    validation_accuracy = eval_results['accuracy']\n",
    "    validation_accuracies.append(validation_accuracy)\n",
    "    print(f'Validation Accuracy after epoch {epoch+1}: {validation_accuracy}')\n",
    "    \n",
    "    model.train()  # Switch back to training mode"
   ]
  },
  {
   "cell_type": "code",
   "execution_count": null,
   "id": "05f4a4cb",
   "metadata": {},
   "outputs": [],
   "source": [
    "# Plot the training and validation loss per epoch\n",
    "plt.figure(figsize=(10,5))\n",
    "plt.plot(range(1, num_epochs+1), avg_train_losses, marker='o', label='Training Loss')\n",
    "plt.plot(range(1, num_epochs+1), avg_val_losses, marker='o', label='Validation Loss')\n",
    "plt.xlabel('Epoch')\n",
    "plt.ylabel('Loss')\n",
    "plt.title('Training vs. Validation Loss')\n",
    "plt.xticks(range(1, num_epochs+1))\n",
    "plt.legend()\n",
    "plt.show()"
   ]
  },
  {
   "cell_type": "code",
   "execution_count": null,
   "id": "93086f4d",
   "metadata": {},
   "outputs": [],
   "source": [
    "# Optional: Plot validation accuracy per epoch\n",
    "plt.figure(figsize=(10,5))\n",
    "plt.plot(range(1, num_epochs+1), validation_accuracies, marker='o', color='green', label='Validation Accuracy')\n",
    "plt.xlabel('Epoch')\n",
    "plt.ylabel('Accuracy')\n",
    "plt.title('Validation Accuracy Per Epoch')\n",
    "plt.xticks(range(1, num_epochs+1))\n",
    "plt.legend()\n",
    "plt.show()"
   ]
  },
  {
   "cell_type": "markdown",
   "id": "4c5b8c44",
   "metadata": {},
   "source": [
    "### **Evaluation Loop**\n",
    "\n",
    "After training, we'll see how well the model performs on the validation set."
   ]
  },
  {
   "cell_type": "code",
   "execution_count": null,
   "id": "fe816ce9",
   "metadata": {},
   "outputs": [],
   "source": [
    "    # Evaluate on validation set\n",
    "    model.eval()\n",
    "    val_losses = []  # To record validation loss of each batch\n",
    "    with torch.no_grad():\n",
    "        for batch in eval_dataloader:\n",
    "            batch = {k: v.to(device) for k, v in batch.items()}\n",
    "            outputs = model(**batch)\n",
    "            loss = outputs.loss\n",
    "            val_losses.append(loss.item())\n",
    "    \n",
    "    # Calculate average validation loss for the epoch\n",
    "    avg_val_loss = sum(val_losses) / len(val_losses)\n",
    "    avg_val_losses.append(avg_val_loss)\n",
    "    print(f'Average validation loss for epoch {epoch+1}: {avg_val_loss}')\n",
    "    \n",
    "    model.train()  # Switch back to training mode\n"
   ]
  },
  {
   "cell_type": "markdown",
   "id": "6cedfa02",
   "metadata": {},
   "source": [
    "### **Save the Trained Model**\n",
    "\n",
    "Let's save the model so we don't have to retrain it every time."
   ]
  },
  {
   "cell_type": "code",
   "execution_count": null,
   "id": "d2703c5d",
   "metadata": {},
   "outputs": [],
   "source": [
    "# Save the trained model\n",
    "model.save_pretrained('./hate_speech_model')"
   ]
  },
  {
   "cell_type": "markdown",
   "id": "26f7cb82",
   "metadata": {},
   "source": [
    "### **Define a Prediction Function**\n",
    "\n",
    "We'll create a function to easily make predictions on new text inputs."
   ]
  },
  {
   "cell_type": "code",
   "execution_count": null,
   "id": "2bfcc051",
   "metadata": {},
   "outputs": [],
   "source": [
    "# Function to predict the class of a given text\n",
    "def predict(text):\n",
    "    # Tokenize the input text\n",
    "    inputs = tokenizer(text, return_tensors='pt', truncation=True, padding='max_length', max_length=128)\n",
    "    # Move inputs to the device\n",
    "    inputs = {k: v.to(device) for k, v in inputs.items()}\n",
    "    # Set model to evaluation mode\n",
    "    model.eval()\n",
    "    with torch.no_grad():\n",
    "        outputs = model(**inputs)\n",
    "    logits = outputs.logits\n",
    "    # Get the predicted class index\n",
    "    predicted_class = torch.argmax(logits, dim=1).item()\n",
    "    # Map the class index to the actual label\n",
    "    label_map = {0: 'hate_speech', 1: 'offensive_language', 2: 'neither'}\n",
    "    return label_map[predicted_class]"
   ]
  },
  {
   "cell_type": "markdown",
   "id": "554442d5",
   "metadata": {},
   "source": [
    "### **Test the Prediction Function**\n",
    "\n",
    "Let's test our prediction function with a sample text."
   ]
  },
  {
   "cell_type": "code",
   "execution_count": null,
   "id": "6ddfdff2",
   "metadata": {},
   "outputs": [],
   "source": [
    "# Test the model with a sample text\n",
    "sample_text = \"I hate you!\"\n",
    "prediction = predict(sample_text)\n",
    "print(f\"Predicted class for sample text: {prediction}\")"
   ]
  },
  {
   "cell_type": "code",
   "execution_count": null,
   "id": "41769021",
   "metadata": {},
   "outputs": [],
   "source": []
  },
  {
   "cell_type": "code",
   "execution_count": null,
   "id": "535f66d1",
   "metadata": {},
   "outputs": [],
   "source": []
  }
 ],
 "metadata": {
  "kernelspec": {
   "display_name": "Python 3",
   "language": "python",
   "name": "python3"
  },
  "language_info": {
   "codemirror_mode": {
    "name": "ipython",
    "version": 3
   },
   "file_extension": ".py",
   "mimetype": "text/x-python",
   "name": "python",
   "nbconvert_exporter": "python",
   "pygments_lexer": "ipython3",
   "version": "3.10.4"
  }
 },
 "nbformat": 4,
 "nbformat_minor": 5
}
